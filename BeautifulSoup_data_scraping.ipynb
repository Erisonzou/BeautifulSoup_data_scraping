{
  "nbformat": 4,
  "nbformat_minor": 0,
  "metadata": {
    "colab": {
      "name": "BeautifulSoup_data_scraping.ipynb",
      "provenance": [],
      "collapsed_sections": []
    },
    "kernelspec": {
      "name": "python3",
      "display_name": "Python 3"
    },
    "language_info": {
      "name": "python"
    }
  },
  "cells": [
    {
      "cell_type": "code",
      "metadata": {
        "id": "lUQeoe8H1Toh"
      },
      "source": [
        "# function to scrape the height from the URLs\n",
        "def ScrapeHeight(URL):\n",
        "  \n",
        "  #the libraries im using\n",
        "  import requests\n",
        "  from bs4 import BeautifulSoup\n",
        "  \n",
        "  #grabbing data from the page\n",
        "  page=requests.get(URL)\n",
        "  soup=BeautifulSoup(page.content,\"html.parser\")\n",
        "  scrapped_height=soup.findAll(\"span\",class_=\"sidearm-roster-player-height\")\n",
        "  \n",
        "  # the temporary list taht will be needed to store the heights\n",
        "  string_temp_height_list=[]\n",
        "  heights_in_inches=[]\n",
        "  string_temp_height_lists=[]\n",
        "  \n",
        "  #putting all the height.text into the string_temp_height_list \n",
        "  for height in scrapped_height:\n",
        "    string_temp_height_list.append(height.text)\n",
        "  \n",
        "  # X will store half the length of the number of values in the string_temp_height_list\n",
        "  X=int(len(string_temp_height_list)/2)\n",
        "\n",
        "  # since the string_temp_height_list contains duplicate data I deleted half the list\n",
        "  del string_temp_height_list[X:]\n",
        "\n",
        "\n",
        "  return string_temp_height_list\n",
        "\n",
        "#this Funciton scrapes the name from the URLs\n",
        "def ScrapeName(URL):\n",
        "  \n",
        "  #the libraries ill be using \n",
        "  import requests\n",
        "  from bs4 import BeautifulSoup\n",
        "\n",
        "  #grabing the data\n",
        "  page=requests.get(URL)\n",
        "  soup=BeautifulSoup(page.content,\"html.parser\")\n",
        "\n",
        "  players=soup.findAll(\"h3\")\n",
        "\n",
        "  #temp list\n",
        "  player_name_list=[]\n",
        "\n",
        "  #cleaning the data\n",
        "  for players_names in players:\n",
        "    players_names=players_names.text\n",
        "    players_names=players_names.strip()\n",
        "    player_name_list.append(players_names)\n",
        "\n",
        "  #since the beginning of the data start with Player instead of an actual name and the last 3 values are also not names i had to delete the data\n",
        "  del player_name_list[0]\n",
        "  del player_name_list[-3:]\n",
        "\n",
        "  return player_name_list\n",
        "\n",
        "#this function converts the values i got from ScrapeHeight into integer inches\n",
        "def Scrapeheight_toInches(ScrapedHeight):\n",
        "\n",
        "  temp_list=[]\n",
        "  heights_in_inches=[]\n",
        "\n",
        "  for height in ScrapedHeight:\n",
        "    temp_list.append(height.replace('\"',''))\n",
        "  \n",
        "  for i in range(0, len(temp_list)):\n",
        "  #splitting the raw string on the '\n",
        "\n",
        "    x = temp_list[i].split(\"'\")\n",
        "  #extracting the feet from the splitted list and converting to int\n",
        "\n",
        "    feet = int(x[0])\n",
        "  #converting the feet to inches by mulitplying it by 12\n",
        "\n",
        "    feet_as_inches = feet * 12\n",
        "  ##extracting the inches from the splitted list and converting to int\n",
        "\n",
        "    inches = int(x[1])\n",
        "  #calculating the total height inches\n",
        "\n",
        "    total_height_in_inches =  feet_as_inches + inches\n",
        "\n",
        "  #appending the converted height to a new list\n",
        "    heights_in_inches.append(total_height_in_inches)\n",
        "  #returns the list in heights of inches\n",
        "  return(heights_in_inches)\n",
        "\n",
        "\n",
        "#Function to turn inches into centimeters\n",
        "def centimeters(x):\n",
        "  \n",
        "  temp_list=[]\n",
        "  for i in x:\n",
        "    temp_list.append(i*2.54)\n",
        "  \n",
        "  return temp_list\n",
        "\n",
        "\n",
        "# This funciton will flatten the nested list \n",
        "def oneList(GiveMeList):\n",
        "  \n",
        "  final_list=[]\n",
        "  #using a nested loop i can flatten the nested list\n",
        "  for Lists in GiveMeList:\n",
        "    for item in Lists:\n",
        "      final_list.append(item)\n",
        "  return final_list\n",
        "\n",
        "\n",
        "# This FUNCTION has all the other functions in it so i would only need to call this function in order to scrape the data and create a dataframe out of it \n",
        "def dataframe_creation(URLs):\n",
        "  # temporary list\n",
        "  name_list=[]\n",
        "  height_list=[]\n",
        "  \n",
        "  #im using a for function that will make use of the 5 functions that i had created which will return me the name and the height in centimeters\n",
        "  for url in URLs:\n",
        "    height_list.append(centimeters(Scrapeheight_toInches(ScrapeHeight(url))))\n",
        "    name_list.append(ScrapeName(url))\n",
        "  \n",
        "  height=(oneList(height_list))\n",
        "  length_height=len(height)\n",
        "  name=(oneList(name_list))\n",
        "  del name[length_height:]\n",
        "\n",
        "  # Using the pandas library i can create a dataframe from the name_list and height_list\n",
        "  import pandas as pd\n",
        "\n",
        "  df=pd.DataFrame()\n",
        "  df['Players']=name\n",
        "  df['Height']=height\n",
        "\n",
        "  return df"
      ],
      "execution_count": null,
      "outputs": []
    },
    {
      "cell_type": "code",
      "metadata": {
        "id": "Gfm366iuAhij"
      },
      "source": [
        "#list of websites containing informaiton about men volleyball\n",
        "men_volleyball_URL=[\"https://www.brooklyncollegeathletics.com/sports/mens-volleyball/roster/2019\",\"https://athletics.baruch.cuny.edu/sports/mens-volleyball/roster\",\"https://yorkathletics.com/sports/mens-volleyball/roster\"]\n",
        "\n",
        "#using the dataframe_creation funciton, i scrapped all the names and height from the URLs in men_volleyball_URL and created a dataframe out of it\n",
        "men_volleyball_df=dataframe_creation(men_volleyball_URL)\n",
        "\n",
        "#I made a csv file with the dataframe and called it Men_VolleyBall csv\n",
        "men_volleyball_df.to_csv(\"Men_VolleyBall.csv\")\n",
        "\n"
      ],
      "execution_count": null,
      "outputs": []
    },
    {
      "cell_type": "code",
      "metadata": {
        "id": "86OAyWLocDtS"
      },
      "source": [
        "women_volleyball_URL=[\"https://www.brooklyncollegeathletics.com/sports/womens-volleyball/roster/2019\",\"https://athletics.baruch.cuny.edu/sports/womens-volleyball/roster\",\"https://johnjayathletics.com/sports/womens-volleyball/roster\"]\n",
        "\n",
        "women_volleyball_df=dataframe_creation(women_volleyball_URL)\n",
        "\n",
        "women_volleyball_df.to_csv(\"women_VolleyBall.csv\")"
      ],
      "execution_count": null,
      "outputs": []
    },
    {
      "cell_type": "code",
      "metadata": {
        "id": "JDLM_PKJhPQ-"
      },
      "source": [
        "men_swimming_URL=[\"https://yorkathletics.com/sports/mens-swimming-and-diving/roster\",\"https://athletics.baruch.cuny.edu/sports/mens-swimming-and-diving/roster\",\"https://www.brooklyncollegeathletics.com/sports/mens-swimming-and-diving/roster\"]\n",
        "\n",
        "men_swimming_df=dataframe_creation(men_swimming_URL)\n",
        "\n",
        "men_swimming_df.to_csv(\"Men_swimming.csv\")"
      ],
      "execution_count": null,
      "outputs": []
    },
    {
      "cell_type": "code",
      "metadata": {
        "id": "I2Ct4vaNiT_T"
      },
      "source": [
        "women_swimming_URL=[\"https://queensknights.com/sports/womens-swimming-and-diving/roster\",\"https://athletics.baruch.cuny.edu/sports/womens-swimming-and-diving/roster\",\"https://www.brooklyncollegeathletics.com/sports/womens-swimming-and-diving/roster\"]\n",
        "\n",
        "women_swimming_df=dataframe_creation(women_swimming_URL)\n",
        "\n",
        "women_swimming_df.to_csv(\"women_swimming.csv\")"
      ],
      "execution_count": null,
      "outputs": []
    },
    {
      "cell_type": "code",
      "metadata": {
        "id": "r3jR4x9dkE09",
        "colab": {
          "base_uri": "https://localhost:8080/"
        },
        "outputId": "fac07799-add4-4bf5-efb5-949a09482cda"
      },
      "source": [
        "#all the dataframes are now in a list\n",
        "dataframes=[men_volleyball_df,women_volleyball_df,men_swimming_df,women_swimming_df]\n",
        "\n",
        "#this for loops prints out the average height of each list\n",
        "for item in dataframes:\n",
        "  print(item[\"Height\"].mean())\n",
        "\n"
      ],
      "execution_count": null,
      "outputs": [
        {
          "output_type": "stream",
          "name": "stdout",
          "text": [
            "182.88000000000005\n",
            "169.46358974358978\n",
            "179.79081081081085\n",
            "163.576\n"
          ]
        }
      ]
    },
    {
      "cell_type": "code",
      "metadata": {
        "colab": {
          "base_uri": "https://localhost:8080/"
        },
        "id": "ScpML9vbpGgx",
        "outputId": "523a1252-f98d-462f-aee6-9aebdecd1cdc"
      },
      "source": [
        "# this for loop prints out the top 5 tallest athlete from each dataframe \n",
        "for item in dataframes:\n",
        "  print(item.sort_values(by='Height',ascending=False).iloc[0:5])\n",
        "  print(\"\\n\")"
      ],
      "execution_count": null,
      "outputs": [
        {
          "output_type": "stream",
          "name": "stdout",
          "text": [
            "                Players  Height\n",
            "21     Leon Petrovitsky  195.58\n",
            "18         Artem Zinkin  195.58\n",
            "30          Akil Vaughn  195.58\n",
            "20     Carlos Rodriguez  193.04\n",
            "37  Guillermo Hernandez  193.04\n",
            "\n",
            "\n",
            "            Players  Height\n",
            "30   Paige Sadowitz  187.96\n",
            "37  Johnelle Pierre  185.42\n",
            "21  Julia Perkowski  182.88\n",
            "31     Rylea Sandel  182.88\n",
            "29      Faith Harer  182.88\n",
            "\n",
            "\n",
            "             Players  Height\n",
            "14      Kasper Gacek  195.58\n",
            "34   Mark  MacEachen  193.04\n",
            "13  Yousef  Elkhouly  190.50\n",
            "21      William Rose  187.96\n",
            "4    Antonio Josephs  187.96\n",
            "\n",
            "\n",
            "             Players  Height\n",
            "24       Anna Curran  180.34\n",
            "28  Natalia Mrzyglod  175.26\n",
            "7     Kristen Flores  175.26\n",
            "17     Katherine Lee  175.26\n",
            "6      Jillian Etnel  172.72\n",
            "\n",
            "\n"
          ]
        }
      ]
    },
    {
      "cell_type": "code",
      "metadata": {
        "colab": {
          "base_uri": "https://localhost:8080/"
        },
        "id": "svqitSmDuaiy",
        "outputId": "191fff72-c848-4f05-d965-8696a8ff904d"
      },
      "source": [
        "# this for loop prints out the shortest 5 athlete from each dataframe\n",
        "for item in dataframes:\n",
        "  print(item.sort_values(by='Height',ascending=True).iloc[0:5])\n",
        "  print(\"\\n\")"
      ],
      "execution_count": null,
      "outputs": [
        {
          "output_type": "stream",
          "name": "stdout",
          "text": [
            "              Players  Height\n",
            "32  Jayden Deokinanan  162.56\n",
            "0       Snigdho Hasan  165.10\n",
            "27     Juan Rodriguez  167.64\n",
            "26         John Vitor  167.64\n",
            "28       Shawn Nemoto  170.18\n",
            "\n",
            "\n",
            "                     Players  Height\n",
            "18               Young Gi Go  152.40\n",
            "25               Taylor Hunt  154.94\n",
            "9   Savanna Koutsakis-Keener  154.94\n",
            "20                 Sofia Tam  157.48\n",
            "6                 Laurie Lee  157.48\n",
            "\n",
            "\n",
            "               Players  Height\n",
            "23          Ben Sionov  167.64\n",
            "3       Anthony Jordan  170.18\n",
            "5   Christopher Mendez  170.18\n",
            "0       Ti’Juan Boothe  172.72\n",
            "33  Konstantin Lomeyko  172.72\n",
            "\n",
            "\n",
            "               Players  Height\n",
            "9         Bianca Hiltz  149.86\n",
            "0    Rupakshi Aggarwal  154.94\n",
            "25  Rachel  Davidovich  154.94\n",
            "5      Natalia Cuttler  154.94\n",
            "14   Joscelyn  Galindo  154.94\n",
            "\n",
            "\n"
          ]
        }
      ]
    }
  ]
}